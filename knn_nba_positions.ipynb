{
 "cells": [
  {
   "cell_type": "code",
   "execution_count": 1,
   "id": "63048230",
   "metadata": {},
   "outputs": [],
   "source": [
    "import time\n",
    "import numpy as np\n",
    "from sklearn.neighbors import KNeighborsClassifier\n",
    "from nba_api.stats.static import players\n",
    "from nba_api.stats.endpoints import playercareerstats"
   ]
  },
  {
   "cell_type": "code",
   "execution_count": 2,
   "id": "6551661a",
   "metadata": {},
   "outputs": [],
   "source": [
    "POSITION_TYPES = ['CENTER', 'GUARD', 'FORWARD']\n",
    "\n",
    "# Centers\n",
    "centers=[\n",
    "    'nikola jokic',\n",
    "    'joel embiid',\n",
    "    'anthony davis',\n",
    "    'clint capela',\n",
    "    'bam adebayo'\n",
    "]\n",
    "center_ids=[]\n",
    "for i in range(len(centers)):\n",
    "    center_ids.append(players.find_players_by_full_name(centers[i])[0]['id'])\n",
    "\n",
    "# Guards\n",
    "guards=[\n",
    "    'damian lillard',\n",
    "    'stephen curry',\n",
    "    'luka doncic',\n",
    "    'jamal murray',\n",
    "    'james harden'\n",
    "]\n",
    "guard_ids=[]\n",
    "for i in range(len(guards)):\n",
    "    guard_ids.append(players.find_players_by_full_name(guards[i])[0]['id'])\n",
    "\n",
    "# Forwards\n",
    "forwards=[\n",
    "    'giannis antetokounmpo',\n",
    "    'draymond green',\n",
    "    'pascal siakam',\n",
    "    'zion williamson',\n",
    "    'blake griffin'\n",
    "]\n",
    "forward_ids=[]\n",
    "for i in range(len(forwards)):\n",
    "    forward_ids.append(players.find_players_by_full_name(forwards[i])[0]['id'])"
   ]
  },
  {
   "cell_type": "code",
   "execution_count": 3,
   "id": "9b844395",
   "metadata": {},
   "outputs": [],
   "source": [
    "nba_players = []\n",
    "positions = [center_ids, guard_ids, forward_ids]\n",
    "for position in positions:\n",
    "    for i in range(len(position)):\n",
    "        time.sleep(0.600)\n",
    "        career = playercareerstats.PlayerCareerStats(player_id=position[i])\n",
    "        nba_players.append(career.get_data_frames()[0])"
   ]
  },
  {
   "cell_type": "code",
   "execution_count": 4,
   "id": "7bc7c633",
   "metadata": {},
   "outputs": [],
   "source": [
    "X_train = np.zeros((15,6))\n",
    "for i in range(len(nba_players)):\n",
    "    X_train[i] = np.array([nba_players[i]['PLAYER_ID'][0],\n",
    "                           (sum(nba_players[i]['PTS']) / sum(nba_players[i]['GP'])), \n",
    "                           (sum(nba_players[i]['AST']) / sum(nba_players[i]['GP'])), \n",
    "                           (sum(nba_players[i]['REB']) / sum(nba_players[i]['GP'])), \n",
    "                           (sum(nba_players[i]['STL']) / sum(nba_players[i]['GP'])), \n",
    "                           (sum(nba_players[i]['BLK']) / sum(nba_players[i]['GP']))])\n",
    "y_train = np.array([0]*5 + [1]*5 + [2]*5)"
   ]
  },
  {
   "cell_type": "code",
   "execution_count": 5,
   "id": "851b670e",
   "metadata": {},
   "outputs": [
    {
     "data": {
      "text/plain": [
       "KNeighborsClassifier()"
      ]
     },
     "execution_count": 5,
     "metadata": {},
     "output_type": "execute_result"
    }
   ],
   "source": [
    "clf = KNeighborsClassifier()\n",
    "clf.fit(X_train[:, 1:], y_train)"
   ]
  },
  {
   "cell_type": "code",
   "execution_count": 6,
   "id": "9f24cab5",
   "metadata": {},
   "outputs": [],
   "source": [
    "def predict_position(player_name, clf):    \n",
    "    player_id = players.find_players_by_full_name(player_name)[0]['id']\n",
    "    \n",
    "\n",
    "    player_career = playercareerstats.PlayerCareerStats(player_id=player_id)\n",
    "\n",
    "    player_df = player_career.get_data_frames()[0]\n",
    "\n",
    "    player_stats = np.array([(sum(player_df['PTS']) / sum(player_df['GP'])), \n",
    "                           (sum(player_df['AST']) / sum(player_df['GP'])), \n",
    "                           (sum(player_df['REB']) / sum(player_df['GP'])), \n",
    "                           (sum(player_df['STL']) / sum(player_df['GP'])), \n",
    "                           (sum(player_df['BLK']) / sum(player_df['GP']))]).reshape(1,-1)\n",
    "    \n",
    "    position_id = clf.predict(player_stats)[0]\n",
    "    position = POSITION_TYPES[position_id]\n",
    "    return position_id, position"
   ]
  },
  {
   "cell_type": "code",
   "execution_count": 7,
   "id": "3bf56249",
   "metadata": {},
   "outputs": [
    {
     "name": "stdout",
     "output_type": "stream",
     "text": [
      "I think michael jordan is a GUARD. He played GUARD in his career\n",
      "I think shaq is a CENTER. He played CENTER in his career\n",
      "I think magic johnson is a GUARD. He played GUARD in his career\n",
      "I think chris paul is a GUARD. He played GUARD in his career\n",
      "I think marc gasol is a CENTER. He played CENTER in his career\n",
      "I think dikembe mutombo is a CENTER. He played CENTER in his career\n",
      "I think russell westbrook is a GUARD. He played GUARD in his career\n",
      "I think larry bird is a CENTER. He played FORWARD in his career\n",
      "I think john stockton is a CENTER. He played GUARD in his career\n",
      "I think derrick rose is a GUARD. He played GUARD in his career\n",
      "I think charles barkley is a CENTER. He played FORWARD in his career\n",
      "I think kyrie irving is a GUARD. He played GUARD in his career\n",
      "I think rudy gobert is a CENTER. He played CENTER in his career\n",
      "I think devin booker is a GUARD. He played GUARD in his career\n",
      "I think steve nash is a CENTER. He played GUARD in his career\n",
      "I think tim duncan is a CENTER. He played CENTER in his career\n",
      "I think dirk nowitzki is a FORWARD. He played FORWARD in his career\n",
      "I think lebron is a GUARD. He played FORWARD in his career\n"
     ]
    }
   ],
   "source": [
    "X_test = [\n",
    "    'michael jordan',\n",
    "    'shaq',\n",
    "    'magic johnson',\n",
    "    'chris paul',\n",
    "    'marc gasol',\n",
    "    'dikembe mutombo',\n",
    "    'russell westbrook',\n",
    "    'larry bird',\n",
    "    'john stockton',\n",
    "    'derrick rose',\n",
    "    'charles barkley',\n",
    "    'kyrie irving',\n",
    "    'rudy gobert',\n",
    "    'devin booker',\n",
    "    'steve nash',\n",
    "    'tim duncan',\n",
    "    'dirk nowitzki',\n",
    "    'lebron'\n",
    "]\n",
    "\n",
    "y_test = [1, 0, 1, 1, 0, 0, 1, 2, 1, 1, 2, 1, 0, 1, 1, 0, 2, 2]\n",
    "\n",
    "for nba_star in X_test:\n",
    "    time.sleep(0.600)\n",
    "    predicted_position = predict_position(nba_star, clf)[1]\n",
    "    actual_position = POSITION_TYPES[y_test[X_test.index(nba_star)]]\n",
    "    print(f'I think {nba_star} is a {predicted_position}. He played {actual_position} in his career')"
   ]
  }
 ],
 "metadata": {
  "kernelspec": {
   "display_name": "Python 3",
   "language": "python",
   "name": "python3"
  },
  "language_info": {
   "codemirror_mode": {
    "name": "ipython",
    "version": 3
   },
   "file_extension": ".py",
   "mimetype": "text/x-python",
   "name": "python",
   "nbconvert_exporter": "python",
   "pygments_lexer": "ipython3",
   "version": "3.8.8"
  }
 },
 "nbformat": 4,
 "nbformat_minor": 5
}
