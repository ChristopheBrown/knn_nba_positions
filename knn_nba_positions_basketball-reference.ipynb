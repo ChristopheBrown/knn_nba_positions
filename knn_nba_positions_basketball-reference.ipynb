{
 "cells": [
  {
   "cell_type": "code",
   "execution_count": 1,
   "id": "3d25b8de",
   "metadata": {},
   "outputs": [],
   "source": [
    "import numpy as np\n",
    "import pandas as pd\n",
    "import matplotlib.pyplot as plt\n",
    "from matplotlib.pyplot import figure\n",
    "from sklearn.neighbors import KNeighborsClassifier\n",
    "from basketball_reference_scraper.players import get_stats"
   ]
  },
  {
   "cell_type": "code",
   "execution_count": 2,
   "id": "2b223fc6",
   "metadata": {},
   "outputs": [],
   "source": [
    "POSITION_TYPES = ['CENTER', 'GUARD', 'FORWARD']\n",
    "\n",
    "# Centers\n",
    "centers=[\n",
    "    'nikola jokic',\n",
    "    'joel embiid',\n",
    "    'karl-anthony towns',\n",
    "    'andre drummond',\n",
    "    'bam adebayo'\n",
    "]\n",
    "\n",
    "# Guards\n",
    "guards=[\n",
    "    'damian lillard',\n",
    "    'stephen curry',\n",
    "    'luka doncic',\n",
    "    'jamal murray',\n",
    "    'james harden'\n",
    "]\n",
    "\n",
    "# Forwards\n",
    "forwards=[\n",
    "    'giannis antetokounmpo',\n",
    "    'draymond green',\n",
    "    'pascal siakam',\n",
    "    'zion williamson',\n",
    "    'blake griffin'\n",
    "]\n"
   ]
  },
  {
   "cell_type": "code",
   "execution_count": 3,
   "id": "886c8903",
   "metadata": {},
   "outputs": [],
   "source": [
    "def fetch_player_career(player):\n",
    "    career = get_stats(player, stat_type='PER_GAME', playoffs=False, career=False, ask_matches=False)\n",
    "    \n",
    "    # Drop rows containing 'Did Not Play' by only returning rows with digits in the \"Games Played\" field\n",
    "    career_stats = career[career['G'].apply(lambda x: str(x).replace('.','').isdigit())]\n",
    "    \n",
    "    return career_stats\n",
    "\n",
    "def extract_stats(career_stats):\n",
    "    '''\n",
    "    extract_stats() takes a player's stats and returns a numpy array of [PTS, AST, TRB, STL, BLK]\n",
    "    '''\n",
    "    total_seasons = len(career_stats)\n",
    "    \n",
    "    career_ppg = (sum(career_stats['PTS'].astype(float)) / total_seasons)\n",
    "    career_ast = (sum(career_stats['AST'].astype(float)) / total_seasons)\n",
    "    career_trb = (sum(career_stats['TRB'].astype(float)) / total_seasons)\n",
    "    career_stl = (sum(career_stats['STL'].astype(float)) / total_seasons)\n",
    "    career_blk = (sum(career_stats['BLK'].astype(float)) / total_seasons)\n",
    "    \n",
    "    return np.array([career_ppg, career_ast, career_trb, career_stl, career_blk])\n",
    "    \n",
    "def predict_position(stats, clf):    \n",
    "    position_id = clf.predict(stats)[0]\n",
    "    position = POSITION_TYPES[position_id]\n",
    "    return position"
   ]
  },
  {
   "cell_type": "code",
   "execution_count": 4,
   "id": "aca7ff4c",
   "metadata": {},
   "outputs": [
    {
     "name": "stdout",
     "output_type": "stream",
     "text": [
      "nikola jokic\n",
      "joel embiid\n",
      "karl-anthony towns\n",
      "andre drummond\n",
      "bam adebayo\n",
      "damian lillard\n",
      "stephen curry\n",
      "luka doncic\n",
      "jamal murray\n",
      "james harden\n",
      "giannis antetokounmpo\n",
      "draymond green\n",
      "pascal siakam\n",
      "zion williamson\n",
      "blake griffin\n"
     ]
    }
   ],
   "source": [
    "careers = []\n",
    "nba_players = centers + guards + forwards\n",
    "for player in nba_players:\n",
    "    print(player)\n",
    "    careers.append(fetch_player_career(player))"
   ]
  },
  {
   "cell_type": "code",
   "execution_count": 5,
   "id": "aad02e8d",
   "metadata": {
    "scrolled": false
   },
   "outputs": [
    {
     "data": {
      "text/plain": [
       "KNeighborsClassifier()"
      ]
     },
     "execution_count": 5,
     "metadata": {},
     "output_type": "execute_result"
    }
   ],
   "source": [
    "X_train = np.zeros((15,5))\n",
    "for i in range(len(careers)):\n",
    "    X_train[i] = extract_stats(careers[i])\n",
    "    \n",
    "y_train = np.array([0]*5 + [1]*5 + [2]*5)\n",
    "\n",
    "clf = KNeighborsClassifier()\n",
    "clf.fit(X_train, y_train)"
   ]
  },
  {
   "cell_type": "code",
   "execution_count": 6,
   "id": "339822c0",
   "metadata": {},
   "outputs": [],
   "source": [
    "more_players = [\n",
    "    'michael jordan', # 1\n",
    "    'magic johnson',  # 1\n",
    "    'chris paul',  # 1\n",
    "    'dikembe mutombo',  # 0\n",
    "    'russell westbrook',  # 1\n",
    "    'larry bird',  # 2\n",
    "    'john stockton',  # 1\n",
    "    'derrick rose',  # 1\n",
    "    'charles barkley',  # 2\n",
    "    'demarcus cousins',  # 0\n",
    "    'kyrie irving',  # 1\n",
    "    'rudy gobert',  # 0\n",
    "    'kawhi leonard',  # 2\n",
    "    'devin booker',  # 1\n",
    "    'steve nash',  # 1\n",
    "    'tim duncan',  # 0\n",
    "    'dirk nowitzki',  # 2\n",
    "    'carmelo anthony',  # 2\n",
    "    'paul george',  # 2\n",
    "    'lebron james'  # 2\n",
    "]\n",
    "\n",
    "X_test = np.zeros((len(more_players),5))\n",
    "\n",
    "for i in range(len(more_players)):\n",
    "    all_career_stats = fetch_player_career(more_players[i])\n",
    "    stats = extract_stats(all_career_stats).reshape(1,-1)\n",
    "    X_test[i] = (stats)\n",
    "\n",
    "y_test = [1, 1, 1, 0, 1, 2, 1, 1, 2, 0, 1, 0, 2, 1, 1, 0, 2, 2, 2, 2]"
   ]
  },
  {
   "cell_type": "code",
   "execution_count": 7,
   "id": "63401a6f",
   "metadata": {},
   "outputs": [
    {
     "name": "stdout",
     "output_type": "stream",
     "text": [
      "I think michael jordan is a GUARD. He played GUARD in his career\n",
      "I think magic johnson is a GUARD. He played GUARD in his career\n",
      "I think chris paul is a GUARD. He played GUARD in his career\n",
      "I think dikembe mutombo is a CENTER. He played CENTER in his career\n",
      "I think russell westbrook is a GUARD. He played GUARD in his career\n",
      "I think larry bird is a CENTER. He played FORWARD in his career\n",
      "I think john stockton is a FORWARD. He played GUARD in his career\n",
      "I think derrick rose is a CENTER. He played GUARD in his career\n",
      "I think charles barkley is a CENTER. He played FORWARD in his career\n",
      "I think demarcus cousins is a CENTER. He played CENTER in his career\n",
      "I think kyrie irving is a GUARD. He played GUARD in his career\n",
      "I think rudy gobert is a CENTER. He played CENTER in his career\n",
      "I think kawhi leonard is a FORWARD. He played FORWARD in his career\n",
      "I think devin booker is a GUARD. He played GUARD in his career\n",
      "I think steve nash is a FORWARD. He played GUARD in his career\n",
      "I think tim duncan is a CENTER. He played CENTER in his career\n",
      "I think dirk nowitzki is a FORWARD. He played FORWARD in his career\n",
      "I think carmelo anthony is a FORWARD. He played FORWARD in his career\n",
      "I think paul george is a FORWARD. He played FORWARD in his career\n",
      "I think lebron james is a GUARD. He played FORWARD in his career\n"
     ]
    }
   ],
   "source": [
    "correct_pred = 0\n",
    "\n",
    "for p in range(len(X_test)):\n",
    "    predicted_position = predict_position(X_test[p].reshape(1,-1), clf)\n",
    "    actual_position = POSITION_TYPES[y_test[p]]\n",
    "\n",
    "    if predicted_position == actual_position:\n",
    "        correct_pred += 1\n",
    "\n",
    "    print(f'I think {more_players[p]} is a {predicted_position}. He played {actual_position} in his career')\n"
   ]
  },
  {
   "cell_type": "code",
   "execution_count": 8,
   "id": "691358cf",
   "metadata": {},
   "outputs": [
    {
     "name": "stdout",
     "output_type": "stream",
     "text": [
      "70.0% accuracy\n"
     ]
    }
   ],
   "source": [
    "print(f'{100*(correct_pred / len(y_test))}% accuracy')"
   ]
  },
  {
   "cell_type": "code",
   "execution_count": 9,
   "id": "d8531eb2",
   "metadata": {
    "scrolled": false
   },
   "outputs": [
    {
     "data": {
      "image/png": "[encoded data removed]",
      "text/plain": [
       "<Figure size 576x576 with 1 Axes>"
      ]
     },
     "metadata": {
      "needs_background": "light"
     },
     "output_type": "display_data"
    }
   ],
   "source": [
    "offensive_plays = np.array([X_test[:,0]*X_test[:,1]]).reshape(-1,1)  # points * assists\n",
    "non_scoring_plays = np.array([X_test[:,2]*X_test[:,3]*X_test[:,4]]).reshape(-1,1)  # rebounds * blocks * steals\n",
    "plot_2d = np.concatenate((offensive_plays, non_scoring_plays), axis=1)\n",
    "\n",
    "# Constructing a dataframe for offensive_plays, non_scoring_plays, player, and position\n",
    "df = pd.DataFrame(plot_2d, columns = ['offensive_plays','non_scoring_plays'])\n",
    "df['player'] = more_players\n",
    "df['position'] = [POSITION_TYPES[i] for i in y_test]\n",
    "\n",
    "fig, ax = plt.subplots()\n",
    "\n",
    "# Color-coded scatter plot for non_scoring_plays vs offensive_plays\n",
    "colors = {'GUARD':'red', 'CENTER':'green', 'FORWARD':'blue'}\n",
    "ax.scatter(df['offensive_plays'], df['non_scoring_plays'], c=df['position'].map(colors))\n",
    "plt.gcf().set_size_inches((8, 8))\n",
    "\n",
    "# Add players names to their plotted points\n",
    "for i in range(len(df)):\n",
    "    plt.annotate(df['player'][i], ((df['offensive_plays'][i], df['non_scoring_plays'][i]+.2)))\n",
    "\n",
    "# Labeling title and axes and legend\n",
    "plt.title(\"NBA Positions Visualized\")\n",
    "plt.xlabel(\"(Points) * (Assist)\")\n",
    "plt.ylabel(\"(Rebounds) * (Steals) * (Blocks)\")\n",
    "plt.show()"
   ]
  },
  {
   "cell_type": "code",
   "execution_count": null,
   "id": "94aa1a38",
   "metadata": {},
   "outputs": [],
   "source": []
  }
 ],
 "metadata": {
  "kernelspec": {
   "display_name": "Python 3",
   "language": "python",
   "name": "python3"
  },
  "language_info": {
   "codemirror_mode": {
    "name": "ipython",
    "version": 3
   },
   "file_extension": ".py",
   "mimetype": "text/x-python",
   "name": "python",
   "nbconvert_exporter": "python",
   "pygments_lexer": "ipython3",
   "version": "3.8.8"
  }
 },
 "nbformat": 4,
 "nbformat_minor": 5
}
